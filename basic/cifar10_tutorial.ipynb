{
 "cells": [
  {
   "cell_type": "code",
   "execution_count": 1,
   "metadata": {
    "collapsed": true
   },
   "outputs": [],
   "source": [
    "%matplotlib inline"
   ]
  },
  {
   "cell_type": "code",
   "execution_count": 2,
   "metadata": {
    "collapsed": true
   },
   "outputs": [],
   "source": [
    "import torch\n",
    "import torchvision\n",
    "import torchvision.transforms as transforms"
   ]
  },
  {
   "cell_type": "code",
   "execution_count": 3,
   "metadata": {},
   "outputs": [
    {
     "name": "stdout",
     "output_type": "stream",
     "text": [
      "Files already downloaded and verified\n",
      "Files already downloaded and verified\n"
     ]
    }
   ],
   "source": [
    "transform = transforms.Compose(\n",
    "    [transforms.ToTensor(),\n",
    "     transforms.Normalize((0.5, 0.5, 0.5), (0.5, 0.5, 0.5))])\n",
    "\n",
    "trainset = torchvision.datasets.CIFAR10(root='./data', train=True,\n",
    "                                        download=True, transform=transform)\n",
    "trainloader = torch.utils.data.DataLoader(trainset, batch_size=4,\n",
    "                                          shuffle=True, num_workers=2)\n",
    "\n",
    "testset = torchvision.datasets.CIFAR10(root='./data', train=False,\n",
    "                                       download=True, transform=transform)\n",
    "testloader = torch.utils.data.DataLoader(testset, batch_size=4,\n",
    "                                         shuffle=False, num_workers=2)\n",
    "\n",
    "classes = ('plane', 'car', 'bird', 'cat',\n",
    "           'deer', 'dog', 'frog', 'horse', 'ship', 'truck')"
   ]
  },
  {
   "cell_type": "markdown",
   "metadata": {},
   "source": [
    "Let us show some of the training images, for fun.\n",
    "\n"
   ]
  },
  {
   "cell_type": "code",
   "execution_count": 4,
   "metadata": {},
   "outputs": [
    {
     "name": "stdout",
     "output_type": "stream",
     "text": [
      "plane   car  ship   car\n"
     ]
    },
    {
     "data": {
      "image/png": "[encoded data removed]",
      "text/plain": [
       "<matplotlib.figure.Figure at 0x7f81722d8ef0>"
      ]
     },
     "metadata": {},
     "output_type": "display_data"
    }
   ],
   "source": [
    "import matplotlib.pyplot as plt\n",
    "import numpy as np\n",
    "\n",
    "# functions to show an image\n",
    "\n",
    "\n",
    "def imshow(img):\n",
    "    img = img / 2 + 0.5     # unnormalize\n",
    "    npimg = img.numpy()\n",
    "    plt.imshow(np.transpose(npimg, (1, 2, 0)))\n",
    "\n",
    "\n",
    "# get some random training images\n",
    "dataiter = iter(trainloader)\n",
    "images, labels = dataiter.next()\n",
    "\n",
    "# show images\n",
    "imshow(torchvision.utils.make_grid(images))\n",
    "# print labels\n",
    "print(' '.join('%5s' % classes[labels[j]] for j in range(4)))"
   ]
  },
  {
   "cell_type": "code",
   "execution_count": 5,
   "metadata": {},
   "outputs": [
    {
     "data": {
      "text/plain": [
       "Net (\n",
       "  (conv1): Conv2d(3, 16, kernel_size=(3, 3), stride=(1, 1), padding=(1, 1))\n",
       "  (conv2): Conv2d(16, 16, kernel_size=(3, 3), stride=(1, 1), padding=(1, 1))\n",
       "  (conv3): Conv2d(16, 32, kernel_size=(3, 3), stride=(1, 1), padding=(1, 1))\n",
       "  (conv4): Conv2d(32, 32, kernel_size=(3, 3), stride=(1, 1), padding=(1, 1))\n",
       "  (pool): MaxPool2d (size=(2, 2), stride=(2, 2), dilation=(1, 1))\n",
       "  (fc1): Linear (512 -> 256)\n",
       "  (fc2): Linear (256 -> 10)\n",
       ")"
      ]
     },
     "execution_count": 5,
     "metadata": {},
     "output_type": "execute_result"
    }
   ],
   "source": [
    "from torch.autograd import Variable\n",
    "import torch.nn as nn\n",
    "import torch.nn.functional as F\n",
    "\n",
    "\n",
    "class Net(nn.Module):\n",
    "    def __init__(self):\n",
    "        super(Net, self).__init__()\n",
    "        self.conv1 = nn.Conv2d(3, 16, 3, padding=1)\n",
    "        self.conv2 = nn.Conv2d(16, 16, 3, padding=1)\n",
    "        self.conv3 = nn.Conv2d(16, 32, 3, padding=1)\n",
    "        self.conv4 = nn.Conv2d(32, 32, 3, padding=1)\n",
    "        \n",
    "        self.pool = nn.MaxPool2d(2, 2)\n",
    "        \n",
    "        # we pool three times, padding takes care of dividing accurately\n",
    "        # so the final images are 32 channels wide, of dims 4x4\n",
    "        self.fc1 = nn.Linear(32 * 4 * 4, 256)\n",
    "        self.fc2 = nn.Linear(256, 10)\n",
    "\n",
    "    def forward(self, x):\n",
    "        x = F.relu(self.conv1(x))\n",
    "        x = F.relu(self.conv2(x))\n",
    "        x = self.pool(x)\n",
    "        \n",
    "        x = F.relu(self.conv2(x))\n",
    "        x = F.relu(self.conv2(x))\n",
    "        x = self.pool(x)\n",
    "        \n",
    "        x = F.relu(self.conv3(x))\n",
    "        x = F.relu(self.conv4(x))\n",
    "        x = self.pool(x)\n",
    "        \n",
    "        x = x.view(-1, 32 * 4 * 4)\n",
    "        x = F.relu(self.fc1(x))\n",
    "        x = self.fc2(x)\n",
    "        \n",
    "        return x\n",
    "\n",
    "\n",
    "net = Net()\n",
    "\n",
    "net.cuda()"
   ]
  },
  {
   "cell_type": "code",
   "execution_count": 6,
   "metadata": {
    "collapsed": true
   },
   "outputs": [],
   "source": [
    "import torch.optim as optim\n",
    "\n",
    "criterion = nn.CrossEntropyLoss()\n",
    "optimizer = optim.Adam(net.parameters(), lr=1e-3, weight_decay=1e-4)"
   ]
  },
  {
   "cell_type": "code",
   "execution_count": 7,
   "metadata": {},
   "outputs": [
    {
     "name": "stdout",
     "output_type": "stream",
     "text": [
      "[1,  2000] loss: 2.027\n",
      "[1,  4000] loss: 1.756\n",
      "[1,  6000] loss: 1.626\n",
      "[1,  8000] loss: 1.531\n",
      "[1, 10000] loss: 1.485\n",
      "[1, 12000] loss: 1.416\n",
      "[2,  2000] loss: 1.370\n",
      "[2,  4000] loss: 1.318\n",
      "[2,  6000] loss: 1.306\n",
      "[2,  8000] loss: 1.305\n",
      "[2, 10000] loss: 1.297\n",
      "[2, 12000] loss: 1.261\n",
      "[3,  2000] loss: 1.223\n",
      "[3,  4000] loss: 1.209\n",
      "[3,  6000] loss: 1.192\n",
      "[3,  8000] loss: 1.188\n",
      "[3, 10000] loss: 1.188\n",
      "[3, 12000] loss: 1.203\n",
      "[4,  2000] loss: 1.113\n",
      "[4,  4000] loss: 1.153\n",
      "[4,  6000] loss: 1.136\n",
      "[4,  8000] loss: 1.113\n",
      "[4, 10000] loss: 1.137\n",
      "[4, 12000] loss: 1.126\n",
      "[5,  2000] loss: 1.055\n",
      "[5,  4000] loss: 1.069\n",
      "[5,  6000] loss: 1.068\n",
      "[5,  8000] loss: 1.075\n",
      "[5, 10000] loss: 1.058\n",
      "[5, 12000] loss: 1.075\n",
      "[6,  2000] loss: 1.016\n",
      "[6,  4000] loss: 1.019\n",
      "[6,  6000] loss: 1.037\n",
      "[6,  8000] loss: 1.033\n",
      "[6, 10000] loss: 1.014\n",
      "[6, 12000] loss: 1.024\n",
      "[7,  2000] loss: 0.949\n",
      "[7,  4000] loss: 0.977\n",
      "[7,  6000] loss: 0.986\n",
      "[7,  8000] loss: 0.975\n",
      "[7, 10000] loss: 1.014\n",
      "[7, 12000] loss: 0.970\n",
      "[8,  2000] loss: 0.922\n",
      "[8,  4000] loss: 0.935\n",
      "[8,  6000] loss: 0.949\n",
      "[8,  8000] loss: 0.947\n",
      "[8, 10000] loss: 0.961\n",
      "[8, 12000] loss: 0.962\n",
      "[9,  2000] loss: 0.921\n",
      "[9,  4000] loss: 0.910\n",
      "[9,  6000] loss: 0.930\n",
      "[9,  8000] loss: 0.928\n",
      "[9, 10000] loss: 0.960\n",
      "[9, 12000] loss: 0.940\n",
      "[10,  2000] loss: 0.887\n",
      "[10,  4000] loss: 0.902\n",
      "[10,  6000] loss: 0.913\n",
      "[10,  8000] loss: 0.911\n",
      "[10, 10000] loss: 0.936\n",
      "[10, 12000] loss: 0.919\n",
      "[11,  2000] loss: 0.857\n",
      "[11,  4000] loss: 0.873\n",
      "[11,  6000] loss: 0.893\n",
      "[11,  8000] loss: 0.900\n",
      "[11, 10000] loss: 0.927\n",
      "[11, 12000] loss: 0.911\n",
      "[12,  2000] loss: 0.856\n",
      "[12,  4000] loss: 0.885\n",
      "[12,  6000] loss: 0.883\n",
      "[12,  8000] loss: 0.883\n",
      "[12, 10000] loss: 0.887\n",
      "[12, 12000] loss: 0.869\n",
      "[13,  2000] loss: 0.822\n",
      "[13,  4000] loss: 0.848\n",
      "[13,  6000] loss: 0.864\n",
      "[13,  8000] loss: 0.873\n",
      "[13, 10000] loss: 0.873\n",
      "[13, 12000] loss: 0.891\n",
      "[14,  2000] loss: 0.806\n",
      "[14,  4000] loss: 0.831\n",
      "[14,  6000] loss: 0.843\n",
      "[14,  8000] loss: 0.863\n",
      "[14, 10000] loss: 0.870\n",
      "[14, 12000] loss: 0.871\n",
      "[15,  2000] loss: 0.792\n",
      "[15,  4000] loss: 0.822\n",
      "[15,  6000] loss: 0.813\n",
      "[15,  8000] loss: 0.861\n",
      "[15, 10000] loss: 0.843\n",
      "[15, 12000] loss: 0.888\n",
      "[16,  2000] loss: 0.788\n",
      "[16,  4000] loss: 0.828\n",
      "[16,  6000] loss: 0.823\n",
      "[16,  8000] loss: 0.848\n",
      "[16, 10000] loss: 0.842\n",
      "[16, 12000] loss: 0.855\n",
      "[17,  2000] loss: 0.785\n",
      "[17,  4000] loss: 0.805\n",
      "[17,  6000] loss: 0.832\n",
      "[17,  8000] loss: 0.809\n",
      "[17, 10000] loss: 0.847\n",
      "[17, 12000] loss: 0.851\n",
      "[18,  2000] loss: 0.776\n",
      "[18,  4000] loss: 0.778\n",
      "[18,  6000] loss: 0.825\n",
      "[18,  8000] loss: 0.843\n",
      "[18, 10000] loss: 0.824\n",
      "[18, 12000] loss: 0.812\n",
      "[19,  2000] loss: 0.754\n",
      "[19,  4000] loss: 0.786\n",
      "[19,  6000] loss: 0.819\n",
      "[19,  8000] loss: 0.822\n",
      "[19, 10000] loss: 0.815\n",
      "[19, 12000] loss: 0.829\n",
      "[20,  2000] loss: 0.750\n",
      "[20,  4000] loss: 0.774\n",
      "[20,  6000] loss: 0.791\n",
      "[20,  8000] loss: 0.811\n",
      "[20, 10000] loss: 0.832\n",
      "[20, 12000] loss: 0.839\n",
      "[21,  2000] loss: 0.738\n",
      "[21,  4000] loss: 0.780\n",
      "[21,  6000] loss: 0.793\n",
      "[21,  8000] loss: 0.802\n",
      "[21, 10000] loss: 0.835\n",
      "[21, 12000] loss: 0.814\n",
      "[22,  2000] loss: 0.757\n",
      "[22,  4000] loss: 0.786\n",
      "[22,  6000] loss: 0.797\n",
      "[22,  8000] loss: 0.795\n",
      "[22, 10000] loss: 0.788\n",
      "[22, 12000] loss: 0.811\n",
      "[23,  2000] loss: 0.755\n",
      "[23,  4000] loss: 0.748\n",
      "[23,  6000] loss: 0.753\n",
      "[23,  8000] loss: 0.803\n",
      "[23, 10000] loss: 0.792\n",
      "[23, 12000] loss: 0.813\n",
      "[24,  2000] loss: 0.745\n",
      "[24,  4000] loss: 0.753\n",
      "[24,  6000] loss: 0.784\n",
      "[24,  8000] loss: 0.790\n",
      "[24, 10000] loss: 0.808\n",
      "[24, 12000] loss: 0.803\n",
      "[25,  2000] loss: 0.715\n",
      "[25,  4000] loss: 0.748\n",
      "[25,  6000] loss: 0.769\n",
      "[25,  8000] loss: 0.797\n",
      "[25, 10000] loss: 0.792\n",
      "[25, 12000] loss: 0.802\n",
      "[26,  2000] loss: 0.720\n",
      "[26,  4000] loss: 0.775\n",
      "[26,  6000] loss: 0.766\n",
      "[26,  8000] loss: 0.776\n",
      "[26, 10000] loss: 0.793\n",
      "[26, 12000] loss: 0.783\n",
      "[27,  2000] loss: 0.734\n",
      "[27,  4000] loss: 0.750\n",
      "[27,  6000] loss: 0.763\n",
      "[27,  8000] loss: 0.762\n",
      "[27, 10000] loss: 0.794\n",
      "[27, 12000] loss: 0.788\n",
      "[28,  2000] loss: 0.701\n",
      "[28,  4000] loss: 0.752\n",
      "[28,  6000] loss: 0.766\n",
      "[28,  8000] loss: 0.780\n",
      "[28, 10000] loss: 0.749\n",
      "[28, 12000] loss: 0.775\n",
      "[29,  2000] loss: 0.716\n",
      "[29,  4000] loss: 0.722\n",
      "[29,  6000] loss: 0.746\n",
      "[29,  8000] loss: 0.751\n",
      "[29, 10000] loss: 0.799\n",
      "[29, 12000] loss: 0.781\n",
      "[30,  2000] loss: 0.721\n",
      "[30,  4000] loss: 0.757\n",
      "[30,  6000] loss: 0.735\n",
      "[30,  8000] loss: 0.769\n",
      "[30, 10000] loss: 0.765\n",
      "[30, 12000] loss: 0.770\n",
      "Finished Training\n"
     ]
    }
   ],
   "source": [
    "for epoch in range(30):  # loop over the dataset multiple times\n",
    "\n",
    "    running_loss = 0.0\n",
    "    for i, data in enumerate(trainloader, 0):\n",
    "        # get the inputs\n",
    "        inputs, labels = data\n",
    "\n",
    "        # wrap them in Variable\n",
    "        inputs, labels = Variable(inputs.cuda()), Variable(labels.cuda())\n",
    "\n",
    "        # zero the parameter gradients\n",
    "        optimizer.zero_grad()\n",
    "\n",
    "        # forward + backward + optimize\n",
    "        outputs = net(inputs)\n",
    "        loss = criterion(outputs, labels)\n",
    "        loss.backward()\n",
    "        optimizer.step()\n",
    "\n",
    "        # print statistics\n",
    "        running_loss += loss.data[0]\n",
    "        if i % 2000 == 1999:    # print every 2000 mini-batches\n",
    "            print('[%d, %5d] loss: %.3f' %\n",
    "                  (epoch + 1, i + 1, running_loss / 2000))\n",
    "            running_loss = 0.0\n",
    "\n",
    "print('Finished Training')"
   ]
  },
  {
   "cell_type": "code",
   "execution_count": 8,
   "metadata": {},
   "outputs": [
    {
     "name": "stdout",
     "output_type": "stream",
     "text": [
      "GroundTruth:    cat  ship  ship plane\n"
     ]
    },
    {
     "data": {
      "image/png": "[encoded data removed]",
      "text/plain": [
       "<matplotlib.figure.Figure at 0x7f81722dcda0>"
      ]
     },
     "metadata": {},
     "output_type": "display_data"
    }
   ],
   "source": [
    "dataiter = iter(testloader)\n",
    "images, labels = dataiter.next()\n",
    "\n",
    "# print images\n",
    "imshow(torchvision.utils.make_grid(images))\n",
    "print('GroundTruth: ', ' '.join('%5s' % classes[labels[j]] for j in range(4)))"
   ]
  },
  {
   "cell_type": "code",
   "execution_count": 9,
   "metadata": {
    "collapsed": true
   },
   "outputs": [],
   "source": [
    "outputs = net(Variable(images.cuda()))"
   ]
  },
  {
   "cell_type": "code",
   "execution_count": 10,
   "metadata": {},
   "outputs": [
    {
     "name": "stdout",
     "output_type": "stream",
     "text": [
      "\n",
      "\n",
      "Columns 0 to 7 \n",
      "-11.0642 -11.4798 -11.3822  -6.1689 -11.8836  -7.9655 -11.4851 -12.2119\n",
      "-12.8397 -12.8710 -20.0301 -23.3054 -21.4160 -25.7146 -21.3303 -27.0867\n",
      "-10.4224  -8.7471 -13.3357 -13.5951 -15.4455 -15.3020 -14.5112 -17.0522\n",
      " -8.3093 -11.9432 -13.3813 -17.8520 -14.8934 -19.5695 -15.7637 -19.1427\n",
      "\n",
      "Columns 8 to 9 \n",
      " -9.3388 -10.8983\n",
      " -8.4014 -15.7781\n",
      " -8.0355  -9.6712\n",
      " -9.6589 -13.2200\n",
      "[torch.cuda.FloatTensor of size 4x10 (GPU 0)]\n",
      "\n",
      "\n",
      " 3\n",
      " 8\n",
      " 8\n",
      " 0\n",
      "[torch.cuda.LongTensor of size 4 (GPU 0)]\n",
      "\n",
      "Predicted:    cat  ship  ship plane\n"
     ]
    }
   ],
   "source": [
    "_, predicted = torch.max(outputs.data, 1)\n",
    "\n",
    "print(outputs.data)\n",
    "print(predicted)\n",
    "\n",
    "print('Predicted: ', ' '.join('%5s' % classes[predicted[j]]\n",
    "                              for j in range(4)))"
   ]
  },
  {
   "cell_type": "code",
   "execution_count": 11,
   "metadata": {},
   "outputs": [
    {
     "name": "stdout",
     "output_type": "stream",
     "text": [
      "Accuracy of the network on the 10000 test images: 68 %\n"
     ]
    }
   ],
   "source": [
    "correct = 0\n",
    "total = 0\n",
    "for data in testloader:\n",
    "    images, labels = data\n",
    "    outputs = net(Variable(images.cuda()))\n",
    "    _, predicted = torch.max(outputs.data, 1)\n",
    "    total += labels.size(0)\n",
    "    correct += (predicted.cpu() == labels).sum()\n",
    "\n",
    "print('Accuracy of the network on the 10000 test images: %d %%' % (\n",
    "    100 * correct / total))"
   ]
  },
  {
   "cell_type": "code",
   "execution_count": 12,
   "metadata": {},
   "outputs": [
    {
     "name": "stdout",
     "output_type": "stream",
     "text": [
      "Accuracy of plane : 68 %\n",
      "Accuracy of   car : 92 %\n",
      "Accuracy of  bird : 64 %\n",
      "Accuracy of   cat : 50 %\n",
      "Accuracy of  deer : 67 %\n",
      "Accuracy of   dog : 53 %\n",
      "Accuracy of  frog : 67 %\n",
      "Accuracy of horse : 65 %\n",
      "Accuracy of  ship : 79 %\n",
      "Accuracy of truck : 75 %\n"
     ]
    }
   ],
   "source": [
    "class_correct = list(0. for i in range(10))\n",
    "class_total = list(0. for i in range(10))\n",
    "for data in testloader:\n",
    "    images, labels = data\n",
    "    outputs = net(Variable(images.cuda()))\n",
    "    _, predicted = torch.max(outputs.data, 1)\n",
    "    c = (predicted.cpu() == labels).squeeze()\n",
    "    for i in range(4):\n",
    "        label = labels[i]\n",
    "        class_correct[label] += c[i]\n",
    "        class_total[label] += 1\n",
    "\n",
    "\n",
    "for i in range(10):\n",
    "    print('Accuracy of %5s : %2d %%' % (\n",
    "        classes[i], 100 * class_correct[i] / class_total[i]))"
   ]
  }
 ],
 "metadata": {
  "kernelspec": {
   "display_name": "Python 3",
   "language": "python",
   "name": "python3"
  },
  "language_info": {
   "codemirror_mode": {
    "name": "ipython",
    "version": 3
   },
   "file_extension": ".py",
   "mimetype": "text/x-python",
   "name": "python",
   "nbconvert_exporter": "python",
   "pygments_lexer": "ipython3",
   "version": "3.6.4"
  }
 },
 "nbformat": 4,
 "nbformat_minor": 1
}
